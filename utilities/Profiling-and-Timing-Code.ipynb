{
 "cells": [
  {
   "cell_type": "markdown",
   "metadata": {},
   "source": [
    "### Profiling and Timing Code\n",
    "- [Jake VanderPlas PythonDataScienceHandbook](https://jakevdp.github.io/PythonDataScienceHandbook/01.07-timing-and-profiling.html)\n",
    "- [Profiling and Optimizing Jupyter Notebooks - A Comprehensive Guide](https://towardsdatascience.com/speed-up-jupyter-notebooks-20716cbe2025)\n",
    "- [IPython Magic Commands Docs](https://ipython.readthedocs.io/en/stable/interactive/magics.html)"
   ]
  },
  {
   "cell_type": "markdown",
   "metadata": {},
   "source": [
    "You must install the `line_profiler` and `memory_profiler`\n",
    "\n",
    "- memory_profiler\n",
    "    - `pip install memory_profiler`\n",
    "\n",
    "- line_profiler requires cython: \n",
    "    - `pip install Cython git+https://github.com/rkern/line_profiler.git`\n",
    "    - `pip install line_profiler` "
   ]
  },
  {
   "cell_type": "code",
   "execution_count": 1,
   "metadata": {},
   "outputs": [],
   "source": [
    "%load_ext line_profiler"
   ]
  },
  {
   "cell_type": "code",
   "execution_count": 2,
   "metadata": {},
   "outputs": [],
   "source": [
    "## This is needed so the output doesn't pring to the pager, instead of being inline (in the notebook)\n",
    "from __future__ import print_function\n",
    "\n",
    "def page_printer(data, start=0, screen_lines=0, pager_cmd=None):\n",
    "    if isinstance(data, dict):\n",
    "        data = data['text/plain']\n",
    "    print(data)\n",
    "\n",
    "import IPython.core.page\n",
    "IPython.core.page.page = page_printer # print"
   ]
  },
  {
   "cell_type": "code",
   "execution_count": 3,
   "metadata": {},
   "outputs": [],
   "source": [
    "from random import random\n",
    "\n",
    "def estimate_pi(n=1e7) -> \"area\":\n",
    "    \"\"\"Estimate pi with monte carlo simulation.\n",
    "    \n",
    "    Arguments:\n",
    "        n: number of simulations\n",
    "    \"\"\"\n",
    "    in_circle = 0\n",
    "    total = n\n",
    "    \n",
    "    while n != 0:\n",
    "        prec_x = random()\n",
    "        prec_y = random()\n",
    "        if pow(prec_x, 2) + pow(prec_y, 2) <= 1:\n",
    "            in_circle += 1 # inside the circle\n",
    "        n -= 1\n",
    "        \n",
    "    return 4 * in_circle / total"
   ]
  },
  {
   "cell_type": "code",
   "execution_count": 6,
   "metadata": {},
   "outputs": [
    {
     "name": "stdout",
     "output_type": "stream",
     "text": [
      "CPU times: user 3.63 s, sys: 7.06 ms, total: 3.64 s\n",
      "Wall time: 3.65 s\n"
     ]
    },
    {
     "data": {
      "text/plain": [
       "3.1420204"
      ]
     },
     "execution_count": 6,
     "metadata": {},
     "output_type": "execute_result"
    }
   ],
   "source": [
    "%time estimate_pi()"
   ]
  },
  {
   "cell_type": "markdown",
   "metadata": {},
   "source": [
    "If we’re interested to normalize `%time`, use:\n",
    "\n",
    "`%timeit -r 2 -n 5 estimate_pi()`\n",
    "\n",
    "with `-r` denoting number of runs and `-n` number of loops."
   ]
  },
  {
   "cell_type": "code",
   "execution_count": 7,
   "metadata": {},
   "outputs": [
    {
     "name": "stdout",
     "output_type": "stream",
     "text": [
      "3.68 s ± 13.3 ms per loop (mean ± std. dev. of 2 runs, 5 loops each)\n"
     ]
    }
   ],
   "source": [
    "%timeit -r 2 -n 5 estimate_pi()"
   ]
  },
  {
   "cell_type": "code",
   "execution_count": null,
   "metadata": {},
   "outputs": [],
   "source": []
  },
  {
   "cell_type": "markdown",
   "metadata": {},
   "source": [
    "### using cProfile (Python Profiler)\n"
   ]
  },
  {
   "cell_type": "code",
   "execution_count": 21,
   "metadata": {},
   "outputs": [
    {
     "name": "stdout",
     "output_type": "stream",
     "text": [
      "         40000004 function calls in 7.914 seconds\n",
      "\n",
      "   Ordered by: internal time\n",
      "\n",
      "   ncalls  tottime  percall  cumtime  percall filename:lineno(function)\n",
      "        1    4.713    4.713    7.914    7.914 <ipython-input-5-0f6e1f5ac99b>:3(estimate_pi)\n",
      " 20000000    2.037    0.000    2.037    0.000 {built-in method builtins.pow}\n",
      " 20000000    1.164    0.000    1.164    0.000 {method 'random' of '_random.Random' objects}\n",
      "        1    0.000    0.000    7.914    7.914 {built-in method builtins.exec}\n",
      "        1    0.000    0.000    7.914    7.914 <string>:1(<module>)\n",
      "        1    0.000    0.000    0.000    0.000 {method 'disable' of '_lsprof.Profiler' objects}\n",
      " "
     ]
    }
   ],
   "source": [
    "%prun estimate_pi()"
   ]
  },
  {
   "cell_type": "code",
   "execution_count": 4,
   "metadata": {},
   "outputs": [],
   "source": [
    "%load_ext memory_profiler"
   ]
  },
  {
   "cell_type": "code",
   "execution_count": 5,
   "metadata": {},
   "outputs": [
    {
     "name": "stdout",
     "output_type": "stream",
     "text": [
      "peak memory: 46.18 MiB, increment: 0.19 MiB\n"
     ]
    }
   ],
   "source": [
    "%memit estimate_pi()"
   ]
  },
  {
   "cell_type": "code",
   "execution_count": null,
   "metadata": {},
   "outputs": [],
   "source": []
  },
  {
   "cell_type": "code",
   "execution_count": 6,
   "metadata": {},
   "outputs": [
    {
     "name": "stdout",
     "output_type": "stream",
     "text": [
      "Writing mprun_demo.py\n"
     ]
    }
   ],
   "source": [
    "%%file mprun_demo.py\n",
    "def sum_of_lists(N):\n",
    "    total = 0\n",
    "    for i in range(5):\n",
    "        L = [j ^ (j >> i) for j in range(N)]\n",
    "        total += sum(L)\n",
    "        del L # remove reference to L\n",
    "    return total"
   ]
  },
  {
   "cell_type": "code",
   "execution_count": 7,
   "metadata": {},
   "outputs": [
    {
     "name": "stdout",
     "output_type": "stream",
     "text": [
      "Filename: /Users/paul/github/mprun_demo.py\n",
      "\n",
      "Line #    Mem usage    Increment   Line Contents\n",
      "================================================\n",
      "     1     46.5 MiB     46.5 MiB   def sum_of_lists(N):\n",
      "     2     46.5 MiB      0.0 MiB       total = 0\n",
      "     3     54.2 MiB      0.0 MiB       for i in range(5):\n",
      "     4     92.3 MiB      1.8 MiB           L = [j ^ (j >> i) for j in range(N)]\n",
      "     5     98.8 MiB      6.5 MiB           total += sum(L)\n",
      "     6     54.2 MiB      0.0 MiB           del L # remove reference to L\n",
      "     7     50.1 MiB      0.0 MiB       return total\n",
      "\n"
     ]
    }
   ],
   "source": [
    "from mprun_demo import sum_of_lists\n",
    "%mprun -f sum_of_lists sum_of_lists(1000000)"
   ]
  },
  {
   "cell_type": "code",
   "execution_count": 18,
   "metadata": {},
   "outputs": [
    {
     "data": {
      "text/plain": [
       "{'total': 17179869184,\n",
       " 'available': 6064230400,\n",
       " 'percent': 64.7,\n",
       " 'used': 8585506816,\n",
       " 'free': 475635712,\n",
       " 'active': 5592842240,\n",
       " 'inactive': 5477814272,\n",
       " 'wired': 2992664576}"
      ]
     },
     "execution_count": 18,
     "metadata": {},
     "output_type": "execute_result"
    }
   ],
   "source": [
    "#!/usr/bin/env python\n",
    "import psutil\n",
    "\n",
    "# you can convert that object to a dictionary \n",
    "dict(psutil.virtual_memory()._asdict())"
   ]
  },
  {
   "cell_type": "code",
   "execution_count": 19,
   "metadata": {},
   "outputs": [
    {
     "data": {
      "text/plain": [
       "9.8"
      ]
     },
     "execution_count": 19,
     "metadata": {},
     "output_type": "execute_result"
    }
   ],
   "source": [
    "psutil.cpu_percent()"
   ]
  },
  {
   "cell_type": "code",
   "execution_count": 11,
   "metadata": {},
   "outputs": [
    {
     "data": {
      "text/plain": [
       "['AF_LINK',\n",
       " 'AIX',\n",
       " 'AccessDenied',\n",
       " 'BSD',\n",
       " 'CONN_CLOSE',\n",
       " 'CONN_CLOSE_WAIT',\n",
       " 'CONN_CLOSING',\n",
       " 'CONN_ESTABLISHED',\n",
       " 'CONN_FIN_WAIT1',\n",
       " 'CONN_FIN_WAIT2',\n",
       " 'CONN_LAST_ACK',\n",
       " 'CONN_LISTEN',\n",
       " 'CONN_NONE',\n",
       " 'CONN_SYN_RECV',\n",
       " 'CONN_SYN_SENT',\n",
       " 'CONN_TIME_WAIT',\n",
       " 'Error',\n",
       " 'FREEBSD',\n",
       " 'LINUX',\n",
       " 'MACOS',\n",
       " 'NETBSD',\n",
       " 'NIC_DUPLEX_FULL',\n",
       " 'NIC_DUPLEX_HALF',\n",
       " 'NIC_DUPLEX_UNKNOWN',\n",
       " 'NoSuchProcess',\n",
       " 'OPENBSD',\n",
       " 'OSX',\n",
       " 'POSIX',\n",
       " 'POWER_TIME_UNKNOWN',\n",
       " 'POWER_TIME_UNLIMITED',\n",
       " 'Popen',\n",
       " 'Process',\n",
       " 'STATUS_DEAD',\n",
       " 'STATUS_DISK_SLEEP',\n",
       " 'STATUS_IDLE',\n",
       " 'STATUS_LOCKED',\n",
       " 'STATUS_PARKED',\n",
       " 'STATUS_RUNNING',\n",
       " 'STATUS_SLEEPING',\n",
       " 'STATUS_STOPPED',\n",
       " 'STATUS_TRACING_STOP',\n",
       " 'STATUS_WAITING',\n",
       " 'STATUS_WAKING',\n",
       " 'STATUS_ZOMBIE',\n",
       " 'SUNOS',\n",
       " 'TimeoutExpired',\n",
       " 'WINDOWS',\n",
       " 'ZombieProcess',\n",
       " '_LOWEST_PID',\n",
       " '_PY3',\n",
       " '_TOTAL_PHYMEM',\n",
       " '__all__',\n",
       " '__author__',\n",
       " '__builtins__',\n",
       " '__cached__',\n",
       " '__doc__',\n",
       " '__file__',\n",
       " '__loader__',\n",
       " '__name__',\n",
       " '__package__',\n",
       " '__path__',\n",
       " '__spec__',\n",
       " '__version__',\n",
       " '_as_dict_attrnames',\n",
       " '_assert_pid_not_reused',\n",
       " '_common',\n",
       " '_compat',\n",
       " '_cpu_busy_time',\n",
       " '_cpu_times_deltas',\n",
       " '_cpu_tot_time',\n",
       " '_last_cpu_times',\n",
       " '_last_cpu_times_2',\n",
       " '_last_per_cpu_times',\n",
       " '_last_per_cpu_times_2',\n",
       " '_lock',\n",
       " '_pmap',\n",
       " '_ppid_map',\n",
       " '_pprint_secs',\n",
       " '_psosx',\n",
       " '_psplatform',\n",
       " '_psposix',\n",
       " '_psutil_osx',\n",
       " '_psutil_posix',\n",
       " '_timer',\n",
       " '_wrap_numbers',\n",
       " 'boot_time',\n",
       " 'collections',\n",
       " 'contextlib',\n",
       " 'cpu_count',\n",
       " 'cpu_freq',\n",
       " 'cpu_percent',\n",
       " 'cpu_stats',\n",
       " 'cpu_times',\n",
       " 'cpu_times_percent',\n",
       " 'datetime',\n",
       " 'disk_io_counters',\n",
       " 'disk_partitions',\n",
       " 'disk_usage',\n",
       " 'errno',\n",
       " 'functools',\n",
       " 'getloadavg',\n",
       " 'long',\n",
       " 'net_connections',\n",
       " 'net_if_addrs',\n",
       " 'net_if_stats',\n",
       " 'net_io_counters',\n",
       " 'os',\n",
       " 'pid_exists',\n",
       " 'pids',\n",
       " 'process_iter',\n",
       " 'pwd',\n",
       " 'sensors_battery',\n",
       " 'signal',\n",
       " 'subprocess',\n",
       " 'swap_memory',\n",
       " 'sys',\n",
       " 'test',\n",
       " 'threading',\n",
       " 'time',\n",
       " 'users',\n",
       " 'version_info',\n",
       " 'virtual_memory',\n",
       " 'wait_procs']"
      ]
     },
     "execution_count": 11,
     "metadata": {},
     "output_type": "execute_result"
    }
   ],
   "source": [
    "dir(psutil)"
   ]
  },
  {
   "cell_type": "code",
   "execution_count": 17,
   "metadata": {},
   "outputs": [
    {
     "data": {
      "text/plain": [
       "OrderedDict([('ctx_switches', 144965),\n",
       "             ('interrupts', 731112),\n",
       "             ('soft_interrupts', 158373371),\n",
       "             ('syscalls', 1335633)])"
      ]
     },
     "execution_count": 17,
     "metadata": {},
     "output_type": "execute_result"
    }
   ],
   "source": [
    "psutil.cpu_stats()._asdict()"
   ]
  },
  {
   "cell_type": "code",
   "execution_count": null,
   "metadata": {},
   "outputs": [],
   "source": []
  }
 ],
 "metadata": {
  "kernelspec": {
   "display_name": "Python [conda env:py37]",
   "language": "python",
   "name": "conda-env-py37-py"
  },
  "language_info": {
   "codemirror_mode": {
    "name": "ipython",
    "version": 3
   },
   "file_extension": ".py",
   "mimetype": "text/x-python",
   "name": "python",
   "nbconvert_exporter": "python",
   "pygments_lexer": "ipython3",
   "version": "3.7.3"
  },
  "toc": {
   "base_numbering": 1,
   "nav_menu": {},
   "number_sections": true,
   "sideBar": true,
   "skip_h1_title": false,
   "title_cell": "Table of Contents",
   "title_sidebar": "Contents",
   "toc_cell": false,
   "toc_position": {},
   "toc_section_display": true,
   "toc_window_display": false
  }
 },
 "nbformat": 4,
 "nbformat_minor": 2
}
